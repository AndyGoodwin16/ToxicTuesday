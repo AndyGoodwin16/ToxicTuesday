{
 "cells": [
  {
   "cell_type": "code",
   "execution_count": null,
   "id": "6e2072ec-eedf-4ce8-8fe3-a99cb8bcd149",
   "metadata": {},
   "outputs": [],
   "source": [
    "import pandas as pd\n",
    "import matplotlib.pyplot as plt\n",
    "import numpy as np\n",
    "from scipy.stats import norm\n",
    "import statistics"
   ]
  },
  {
   "cell_type": "code",
   "execution_count": null,
   "id": "445e7396-13fc-4f90-80d9-224187be73b1",
   "metadata": {},
   "outputs": [],
   "source": [
    "df = pd.read_csv('PATCH_13.1_9500_GAMES.csv')"
   ]
  },
  {
   "cell_type": "code",
   "execution_count": null,
   "id": "ef5108dc-daa6-401a-904d-5cbe5852f906",
   "metadata": {},
   "outputs": [],
   "source": [
    "df = df.loc[df['game_duration'] > 15]\n",
    "df['kills_per_min'] = df['kills']/df['game_duration']\n",
    "df['deaths_per_min'] = df['deaths']/df['game_duration']\n",
    "df['assists_per_min'] = df['assists']/df['game_duration']\n",
    "df['damage_taken_per_min'] = df['damage_taken']/df['game_duration']\n",
    "df['damage_dealt_to_objectives_per_min'] = df['damage_dealt_to_objectives']/df['game_duration']\n",
    "df['damage_healed_per_min'] = df['damage_healed']/df['game_duration']\n",
    "df['heal_and_shielding_per_min'] = df['heal_and_shielding']/df['game_duration']\n",
    "df['wards_placed_per_min'] = df['wards_placed']/df['game_duration']\n",
    "df['ward_takedowns_per_min'] = df['ward_takedowns']/df['game_duration']\n",
    "df['control_wards_placed_per_min'] = df['control_wards_placed']/df['game_duration']\n",
    "df['dragons'] = df['dragon_takedowns']\n",
    "\n",
    "df = df[['champion', 'position', 'game_duration', 'kills_per_min', 'deaths_per_min', 'assists_per_min', 'kill_participation', 'cs_per_min', 'gold_per_min', 'damage_per_min', \n",
    "         'turret_plates_taken', 'epic_monster_steals', 'dragons', 'heal_and_shielding_per_min', 'vision_score_per_min', 'wards_placed_per_min', 'ward_takedowns_per_min', 'control_wards_placed_per_min']]"
   ]
  },
  {
   "cell_type": "code",
   "execution_count": null,
   "id": "b7af1b34-65b2-4d29-a758-bb150691fc1a",
   "metadata": {},
   "outputs": [],
   "source": [
    "def dist(Champion, Position, StatName, StatValue):\n",
    "    \n",
    "    df2 = df.loc[df['champion'] == Champion]\n",
    "    df3 = df2.loc[df2['position'] == Position]\n",
    "    stat = df3[StatName]\n",
    "    \n",
    "    plt.hist(stat, bins = 30, density = True);\n",
    "    mean = statistics.mean(stat)\n",
    "    stdev = statistics.stdev(stat)\n",
    "    x_axis = np.arange(0, stat.max(), 0.01)\n",
    "    plt.plot(x_axis, norm.pdf(x_axis, mean, stdev));\n",
    "    plt.show();\n",
    "    \n",
    "    z_score = (StatValue - mean)/(stdev)\n",
    "    print(z_score)\n",
    "    \n",
    "    return\n",
    "\n",
    "dist('Poppy', 'JUNGLE', 'damage_per_min', 750)"
   ]
  }
 ],
 "metadata": {
  "kernelspec": {
   "display_name": "Python 3 (ipykernel)",
   "language": "python",
   "name": "python3"
  },
  "language_info": {
   "codemirror_mode": {
    "name": "ipython",
    "version": 3
   },
   "file_extension": ".py",
   "mimetype": "text/x-python",
   "name": "python",
   "nbconvert_exporter": "python",
   "pygments_lexer": "ipython3",
   "version": "3.9.7"
  }
 },
 "nbformat": 4,
 "nbformat_minor": 5
}
