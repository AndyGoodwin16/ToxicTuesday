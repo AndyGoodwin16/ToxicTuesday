{
 "cells": [
  {
   "cell_type": "code",
   "execution_count": null,
   "id": "6e2072ec-eedf-4ce8-8fe3-a99cb8bcd149",
   "metadata": {},
   "outputs": [],
   "source": [
    "import pandas as pd\n",
    "import matplotlib.pyplot as plt\n",
    "import numpy as np\n",
    "from scipy.stats import norm\n",
    "import statistics"
   ]
  },
  {
   "cell_type": "code",
   "execution_count": null,
   "id": "445e7396-13fc-4f90-80d9-224187be73b1",
   "metadata": {},
   "outputs": [],
   "source": [
    "df = pd.read_csv('PATCH_13.3_BASELINE_STATS.csv')"
   ]
  },
  {
   "cell_type": "code",
   "execution_count": null,
   "id": "ef5108dc-daa6-401a-904d-5cbe5852f906",
   "metadata": {},
   "outputs": [],
   "source": [
    "df = df.loc[df['game_duration'] > 15]\n",
    "df['kills_per_min'] = df['kills']/df['game_duration']\n",
    "df['deaths_per_min'] = df['deaths']/df['game_duration']\n",
    "df['assists_per_min'] = df['assists']/df['game_duration']\n",
    "df['damage_to_turrets_per_min'] = df['damage_dealt_to_turrets']/df['game_duration']\n",
    "df['time_CCing_per_min'] = df['total_time_cc_dealt']/df['game_duration']\n",
    "df['heal_and_shielding_per_min'] = df['heal_and_shielding']/df['game_duration']\n",
    "df['wards_placed_per_min'] = df['wards_placed']/df['game_duration']\n",
    "df['ward_takedowns_per_min'] = df['ward_takedowns']/df['game_duration']\n",
    "df['control_wards_placed_per_min'] = df['control_wards_placed']/df['game_duration']\n",
    "df['dragons'] = df['dragon_takedowns']\n",
    "df['heralds'] = df['rift_herald_takedowns']\n",
    "\n",
    "\n",
    "df = df[['champion', 'position', 'game_duration', 'kills_per_min', 'deaths_per_min', 'assists_per_min', 'kill_participation', 'cs_per_min', 'gold_per_min', 'damage_per_min', \n",
    "         'time_CCing_per_min', 'damage_to_turrets_per_min', 'turret_plates_taken', 'epic_monster_steals', 'dragons', 'heralds', 'heal_and_shielding_per_min', 'vision_score_per_min',\n",
    "         'wards_placed_per_min', 'ward_takedowns_per_min', 'control_wards_placed_per_min']]"
   ]
  },
  {
   "cell_type": "code",
   "execution_count": null,
   "id": "b7af1b34-65b2-4d29-a758-bb150691fc1a",
   "metadata": {},
   "outputs": [],
   "source": [
    "def dist(Champion, Position, StatName, StatValue):\n",
    "    \n",
    "    df2 = df.loc[df['champion'] == Champion]\n",
    "    df3 = df2.loc[df2['position'] == Position]\n",
    "    stat = df3[StatName]\n",
    "    \n",
    "    plt.hist(stat, bins = 30, density = True);\n",
    "    mean = statistics.mean(stat)\n",
    "    stdev = statistics.stdev(stat)\n",
    "    x_axis = np.arange(0, stat.max(), 0.01)\n",
    "    plt.plot(x_axis, norm.pdf(x_axis, mean, stdev));\n",
    "    plt.show();\n",
    "    \n",
    "    z_score = (StatValue - mean)/(stdev)\n",
    "    print(z_score)\n",
    "    \n",
    "    return\n",
    "\n",
    "dist('Xayah', 'BOTTOM', 'damage_per_min', 1000)"
   ]
  },
  {
   "cell_type": "code",
   "execution_count": null,
   "id": "6fc86012-105d-4f4b-b6f4-9f9f0d0b21c6",
   "metadata": {},
   "outputs": [],
   "source": []
  }
 ],
 "metadata": {
  "kernelspec": {
   "display_name": "Python 3 (ipykernel)",
   "language": "python",
   "name": "python3"
  },
  "language_info": {
   "codemirror_mode": {
    "name": "ipython",
    "version": 3
   },
   "file_extension": ".py",
   "mimetype": "text/x-python",
   "name": "python",
   "nbconvert_exporter": "python",
   "pygments_lexer": "ipython3",
   "version": "3.9.7"
  }
 },
 "nbformat": 4,
 "nbformat_minor": 5
}
